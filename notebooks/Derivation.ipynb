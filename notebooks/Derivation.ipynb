{
 "cells": [
  {
   "cell_type": "code",
   "execution_count": 1,
   "id": "d086da0f-071a-4e76-9e31-7620b6c17dec",
   "metadata": {},
   "outputs": [],
   "source": [
    "from sympy import *\n",
    "init_printing(use_unicode=True)"
   ]
  },
  {
   "cell_type": "code",
   "execution_count": 2,
   "id": "6379393e-7a97-4741-96a6-77623817a33c",
   "metadata": {},
   "outputs": [],
   "source": [
    "# b: Wheelbase\n",
    "# t: Track-Width\n",
    "b, t = symbols('b t')"
   ]
  },
  {
   "cell_type": "code",
   "execution_count": 3,
   "id": "ed71845c-f125-4245-95ed-5c77d6f5d254",
   "metadata": {},
   "outputs": [],
   "source": [
    "vx_rover, vy_rover = symbols('v_{xR} v_{yR}')\n",
    "w_rover = symbols('\\omega_R')"
   ]
  },
  {
   "cell_type": "code",
   "execution_count": 4,
   "id": "052ff136-3b2a-4938-9cfb-0a6784293177",
   "metadata": {},
   "outputs": [],
   "source": [
    "# r: Wheel-Radius\n",
    "r = symbols('r')"
   ]
  },
  {
   "cell_type": "code",
   "execution_count": 5,
   "id": "5ced09ea-8162-4b2f-8b72-24105200ca1d",
   "metadata": {},
   "outputs": [],
   "source": [
    "#\n",
    "px_a = -b / 2\n",
    "py_a = t/2\n",
    "\n",
    "px_b = b / 2\n",
    "py_b = t/2\n",
    "\n",
    "px_c = b / 2\n",
    "py_c = t / 2\n",
    "\n",
    "px_d = - b / 2\n",
    "py_d = - t / 2\n"
   ]
  },
  {
   "cell_type": "code",
   "execution_count": 6,
   "id": "66abb7e0-7c71-4cd9-af2a-02ed76ba8a3f",
   "metadata": {},
   "outputs": [],
   "source": [
    "ph_a, ph_b, ph_c, ph_d = symbols('\\phi_a \\phi_b \\phi_c \\phi_d')"
   ]
  },
  {
   "cell_type": "code",
   "execution_count": 7,
   "id": "5d6e102d-f36c-4e11-bfa4-f5b23420df70",
   "metadata": {},
   "outputs": [],
   "source": [
    "w_a, w_b, w_c, w_d = symbols('\\omega_a \\omega_b \\omega_c \\omega_d')"
   ]
  },
  {
   "cell_type": "code",
   "execution_count": 8,
   "id": "466f0e92-a4b2-4262-846f-e1fd4fd60449",
   "metadata": {},
   "outputs": [],
   "source": [
    "v_na = w_a * r\n",
    "v_nb = w_b * r\n",
    "v_nc = w_c * r\n",
    "v_nd = w_d * r"
   ]
  },
  {
   "cell_type": "code",
   "execution_count": 9,
   "id": "abf261ce-f99b-492c-8ae2-fa46d04d532a",
   "metadata": {},
   "outputs": [],
   "source": [
    "v_xa = v_na * cos(ph_a)\n",
    "v_ya = v_na * sin(ph_a)\n",
    "\n",
    "v_xb = v_nb * cos(ph_b)\n",
    "v_yb = v_nb * sin(ph_b)\n",
    "\n",
    "v_xc = v_nc * cos(ph_c)\n",
    "v_yc = v_nc * sin(ph_c)\n",
    "\n",
    "v_xd = v_nd * cos(ph_d)\n",
    "v_yd = v_nd * sin(ph_d)"
   ]
  },
  {
   "cell_type": "code",
   "execution_count": 10,
   "id": "c1b78303-a99a-4e76-bc42-6382d7904176",
   "metadata": {},
   "outputs": [],
   "source": [
    "v_xr = (v_xa + v_xb + v_xc + v_xd) / 4\n",
    "v_yr = (v_ya + v_yb + v_yc + v_yd) / 4"
   ]
  },
  {
   "cell_type": "code",
   "execution_count": 11,
   "id": "345378c8-e1bc-423b-af7d-30ad6577b0e6",
   "metadata": {},
   "outputs": [
    {
     "data": {
      "text/latex": [
       "$\\displaystyle \\frac{r \\left(\\omega_{a} \\cos{\\left(\\phi_{a} \\right)} + \\omega_{b} \\cos{\\left(\\phi_{b} \\right)} + \\omega_{c} \\cos{\\left(\\phi_{c} \\right)} + \\omega_{d} \\cos{\\left(\\phi_{d} \\right)}\\right)}{4}$"
      ],
      "text/plain": [
       "r⋅(\\omegaₐ⋅cos(\\phiₐ) + \\omega_b⋅cos(\\phi_b) + \\omega_c⋅cos(\\phi_c) + \\omega_d⋅cos(\\phi_d))\n",
       "───────────────────────────────────────────────────────────────────────────────────────────\n",
       "                                             4                                             "
      ]
     },
     "execution_count": 11,
     "metadata": {},
     "output_type": "execute_result"
    }
   ],
   "source": [
    "simplify(v_xr)"
   ]
  },
  {
   "cell_type": "code",
   "execution_count": 12,
   "id": "19f86f9f-50f8-4101-9d51-d85bfaa958c9",
   "metadata": {},
   "outputs": [
    {
     "data": {
      "text/latex": [
       "$\\displaystyle \\frac{r \\left(\\omega_{a} \\sin{\\left(\\phi_{a} \\right)} + \\omega_{b} \\sin{\\left(\\phi_{b} \\right)} + \\omega_{c} \\sin{\\left(\\phi_{c} \\right)} + \\omega_{d} \\sin{\\left(\\phi_{d} \\right)}\\right)}{4}$"
      ],
      "text/plain": [
       "r⋅(\\omegaₐ⋅sin(\\phiₐ) + \\omega_b⋅sin(\\phi_b) + \\omega_c⋅sin(\\phi_c) + \\omega_d⋅sin(\\phi_d))\n",
       "───────────────────────────────────────────────────────────────────────────────────────────\n",
       "                                             4                                             "
      ]
     },
     "execution_count": 12,
     "metadata": {},
     "output_type": "execute_result"
    }
   ],
   "source": [
    "simplify(v_yr)"
   ]
  },
  {
   "cell_type": "code",
   "execution_count": 13,
   "id": "8c419b39-1202-4549-a53c-ef15eaffff52",
   "metadata": {},
   "outputs": [],
   "source": [
    "w_r = (\n",
    "    ((v_xa - v_xr) / -py_a) + ((v_ya - v_yr) / px_a) +\n",
    "    ((v_xb - v_xr) / -py_b) + ((v_yb - v_yr) / px_b) +\n",
    "    ((v_xc - v_xr) / -py_c) + ((v_yc - v_yr) / px_c) +\n",
    "    ((v_xd - v_xr) / -py_d) + ((v_yd - v_yr) / px_d)\n",
    ") / 8\n",
    "\n"
   ]
  },
  {
   "cell_type": "code",
   "execution_count": 14,
   "id": "a6d8518f-7b4f-424d-82c8-c0b158356965",
   "metadata": {},
   "outputs": [
    {
     "data": {
      "text/latex": [
       "$\\displaystyle \\frac{r \\left(b \\left(- \\omega_{a} \\cos{\\left(\\phi_{a} \\right)} - \\omega_{b} \\cos{\\left(\\phi_{b} \\right)} - \\omega_{c} \\cos{\\left(\\phi_{c} \\right)} + 3 \\omega_{d} \\cos{\\left(\\phi_{d} \\right)}\\right) + 2 t \\left(- \\omega_{a} \\sin{\\left(\\phi_{a} \\right)} + \\omega_{b} \\sin{\\left(\\phi_{b} \\right)} + \\omega_{c} \\sin{\\left(\\phi_{c} \\right)} - \\omega_{d} \\sin{\\left(\\phi_{d} \\right)}\\right)\\right)}{8 b t}$"
      ],
      "text/plain": [
       "r⋅(b⋅(-\\omegaₐ⋅cos(\\phiₐ) - \\omega_b⋅cos(\\phi_b) - \\omega_c⋅cos(\\phi_c) + 3⋅\\omega_d⋅cos(\\phi_d)) + 2⋅t⋅(-\\omegaₐ⋅sin\n",
       "─────────────────────────────────────────────────────────────────────────────────────────────────────────────────────\n",
       "                                                                                               8⋅b⋅t                 \n",
       "\n",
       "(\\phiₐ) + \\omega_b⋅sin(\\phi_b) + \\omega_c⋅sin(\\phi_c) - \\omega_d⋅sin(\\phi_d)))\n",
       "──────────────────────────────────────────────────────────────────────────────\n",
       "                                                                              "
      ]
     },
     "execution_count": 14,
     "metadata": {},
     "output_type": "execute_result"
    }
   ],
   "source": [
    "simplify(w_r)"
   ]
  },
  {
   "cell_type": "code",
   "execution_count": 15,
   "id": "dbcf1c44-aa2a-4330-9a8e-200d9a649596",
   "metadata": {},
   "outputs": [
    {
     "data": {
      "text/latex": [
       "$\\displaystyle \\frac{\\omega_{a} \\sin{\\left(\\phi_{a} \\right)}}{4} + \\frac{\\omega_{b} \\sin{\\left(\\phi_{b} \\right)}}{4} + \\frac{\\omega_{c} \\sin{\\left(\\phi_{c} \\right)}}{4} + \\frac{\\omega_{d} \\sin{\\left(\\phi_{d} \\right)}}{4}$"
      ],
      "text/plain": [
       "\\omegaₐ⋅sin(\\phiₐ)   \\omega_b⋅sin(\\phi_b)   \\omega_c⋅sin(\\phi_c)   \\omega_d⋅sin(\\phi_d)\n",
       "────────────────── + ──────────────────── + ──────────────────── + ────────────────────\n",
       "        4                     4                      4                      4          "
      ]
     },
     "execution_count": 15,
     "metadata": {},
     "output_type": "execute_result"
    }
   ],
   "source": [
    "simplify(diff(v_yr, r))"
   ]
  },
  {
   "cell_type": "code",
   "execution_count": 16,
   "id": "7514c964-4eb4-4163-b6b2-bf0555ad9256",
   "metadata": {},
   "outputs": [
    {
     "data": {
      "text/latex": [
       "$\\displaystyle \\frac{\\omega_{a} \\cos{\\left(\\phi_{a} \\right)}}{4} + \\frac{\\omega_{b} \\cos{\\left(\\phi_{b} \\right)}}{4} + \\frac{\\omega_{c} \\cos{\\left(\\phi_{c} \\right)}}{4} + \\frac{\\omega_{d} \\cos{\\left(\\phi_{d} \\right)}}{4}$"
      ],
      "text/plain": [
       "\\omegaₐ⋅cos(\\phiₐ)   \\omega_b⋅cos(\\phi_b)   \\omega_c⋅cos(\\phi_c)   \\omega_d⋅cos(\\phi_d)\n",
       "────────────────── + ──────────────────── + ──────────────────── + ────────────────────\n",
       "        4                     4                      4                      4          "
      ]
     },
     "execution_count": 16,
     "metadata": {},
     "output_type": "execute_result"
    }
   ],
   "source": [
    "simplify(diff(v_xr, r))"
   ]
  },
  {
   "cell_type": "code",
   "execution_count": 17,
   "id": "9cc37cf3-bd6b-4d35-bbc4-7efeb0484eba",
   "metadata": {},
   "outputs": [
    {
     "data": {
      "text/latex": [
       "$\\displaystyle 0$"
      ],
      "text/plain": [
       "0"
      ]
     },
     "execution_count": 17,
     "metadata": {},
     "output_type": "execute_result"
    }
   ],
   "source": [
    "diff(v_xr, t)"
   ]
  },
  {
   "cell_type": "code",
   "execution_count": 18,
   "id": "295fb7da-aa61-4de9-af65-192dba62b970",
   "metadata": {},
   "outputs": [
    {
     "data": {
      "text/latex": [
       "$\\displaystyle 0$"
      ],
      "text/plain": [
       "0"
      ]
     },
     "execution_count": 18,
     "metadata": {},
     "output_type": "execute_result"
    }
   ],
   "source": [
    "diff(v_xr, b)"
   ]
  },
  {
   "cell_type": "code",
   "execution_count": 19,
   "id": "6d3e5fe0-5c81-4236-8665-fad953acbe42",
   "metadata": {},
   "outputs": [
    {
     "data": {
      "text/latex": [
       "$\\displaystyle \\frac{b \\left(- \\omega_{a} \\cos{\\left(\\phi_{a} \\right)} - \\omega_{b} \\cos{\\left(\\phi_{b} \\right)} - \\omega_{c} \\cos{\\left(\\phi_{c} \\right)} + 3 \\omega_{d} \\cos{\\left(\\phi_{d} \\right)}\\right) + 2 t \\left(- \\omega_{a} \\sin{\\left(\\phi_{a} \\right)} + \\omega_{b} \\sin{\\left(\\phi_{b} \\right)} + \\omega_{c} \\sin{\\left(\\phi_{c} \\right)} - \\omega_{d} \\sin{\\left(\\phi_{d} \\right)}\\right)}{8 b t}$"
      ],
      "text/plain": [
       "b⋅(-\\omegaₐ⋅cos(\\phiₐ) - \\omega_b⋅cos(\\phi_b) - \\omega_c⋅cos(\\phi_c) + 3⋅\\omega_d⋅cos(\\phi_d)) + 2⋅t⋅(-\\omegaₐ⋅sin(\\p\n",
       "─────────────────────────────────────────────────────────────────────────────────────────────────────────────────────\n",
       "                                                                                             8⋅b⋅t                   \n",
       "\n",
       "hiₐ) + \\omega_b⋅sin(\\phi_b) + \\omega_c⋅sin(\\phi_c) - \\omega_d⋅sin(\\phi_d))\n",
       "──────────────────────────────────────────────────────────────────────────\n",
       "                                                                          "
      ]
     },
     "execution_count": 19,
     "metadata": {},
     "output_type": "execute_result"
    }
   ],
   "source": [
    "simplify(diff(w_r, r))"
   ]
  },
  {
   "cell_type": "code",
   "execution_count": 20,
   "id": "fd0b4810-6c85-411b-8fa1-61764958f93a",
   "metadata": {},
   "outputs": [
    {
     "data": {
      "text/latex": [
       "$\\displaystyle \\frac{r \\left(\\omega_{a} \\sin{\\left(\\phi_{a} \\right)} - \\omega_{b} \\sin{\\left(\\phi_{b} \\right)} - \\omega_{c} \\sin{\\left(\\phi_{c} \\right)} + \\omega_{d} \\sin{\\left(\\phi_{d} \\right)}\\right)}{4 b^{2}}$"
      ],
      "text/plain": [
       "r⋅(\\omegaₐ⋅sin(\\phiₐ) - \\omega_b⋅sin(\\phi_b) - \\omega_c⋅sin(\\phi_c) + \\omega_d⋅sin(\\phi_d))\n",
       "───────────────────────────────────────────────────────────────────────────────────────────\n",
       "                                               2                                           \n",
       "                                            4⋅b                                            "
      ]
     },
     "execution_count": 20,
     "metadata": {},
     "output_type": "execute_result"
    }
   ],
   "source": [
    "simplify(diff(w_r, b))"
   ]
  },
  {
   "cell_type": "code",
   "execution_count": 21,
   "id": "e1ab0c89-4b8c-4b32-a904-1589f841388a",
   "metadata": {},
   "outputs": [
    {
     "data": {
      "text/latex": [
       "$\\displaystyle \\frac{r \\left(\\omega_{a} \\cos{\\left(\\phi_{a} \\right)} + \\omega_{b} \\cos{\\left(\\phi_{b} \\right)} + \\omega_{c} \\cos{\\left(\\phi_{c} \\right)} - 3 \\omega_{d} \\cos{\\left(\\phi_{d} \\right)}\\right)}{8 t^{2}}$"
      ],
      "text/plain": [
       "r⋅(\\omegaₐ⋅cos(\\phiₐ) + \\omega_b⋅cos(\\phi_b) + \\omega_c⋅cos(\\phi_c) - 3⋅\\omega_d⋅cos(\\phi_d))\n",
       "─────────────────────────────────────────────────────────────────────────────────────────────\n",
       "                                                2                                            \n",
       "                                             8⋅t                                             "
      ]
     },
     "execution_count": 21,
     "metadata": {},
     "output_type": "execute_result"
    }
   ],
   "source": [
    "simplify(diff(w_r, t))"
   ]
  },
  {
   "cell_type": "code",
   "execution_count": null,
   "id": "895c0344-83e2-4f27-9b63-06eca71b1285",
   "metadata": {},
   "outputs": [],
   "source": []
  }
 ],
 "metadata": {
  "kernelspec": {
   "display_name": "Python 3 (ipykernel)",
   "language": "python",
   "name": "python3"
  },
  "language_info": {
   "codemirror_mode": {
    "name": "ipython",
    "version": 3
   },
   "file_extension": ".py",
   "mimetype": "text/x-python",
   "name": "python",
   "nbconvert_exporter": "python",
   "pygments_lexer": "ipython3",
   "version": "3.11.8"
  }
 },
 "nbformat": 4,
 "nbformat_minor": 5
}
