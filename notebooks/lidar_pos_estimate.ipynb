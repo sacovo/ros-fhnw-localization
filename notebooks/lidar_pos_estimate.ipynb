{
 "cells": [
  {
   "cell_type": "code",
   "execution_count": 1,
   "metadata": {},
   "outputs": [],
   "source": [
    "import numpy as np\n",
    "from rosbags.rosbag2 import Reader\n",
    "from rosbags.typesys import Stores, get_typestore\n",
    "\n",
    "from matplotlib import pyplot as plt\n",
    "\n",
    "from scipy.spatial.distance import cdist\n",
    "from scipy.spatial import cKDTree"
   ]
  },
  {
   "cell_type": "code",
   "execution_count": null,
   "metadata": {},
   "outputs": [],
   "source": []
  },
  {
   "cell_type": "code",
   "execution_count": 36,
   "metadata": {},
   "outputs": [],
   "source": [
    "from sklearn.cluster import HDBSCAN, DBSCAN"
   ]
  },
  {
   "cell_type": "code",
   "execution_count": 28,
   "metadata": {},
   "outputs": [],
   "source": [
    "typestore = get_typestore(Stores.LATEST)"
   ]
  },
  {
   "cell_type": "code",
   "execution_count": 236,
   "metadata": {},
   "outputs": [],
   "source": [
    "def read_bag(path):\n",
    "    msgs = []\n",
    "    timestamps = []\n",
    "    with Reader(path) as reader:\n",
    "        for connection, timestamp, data in reader.messages():\n",
    "            if connection.topic != \"/scan\":\n",
    "                continue\n",
    "            msg = typestore.deserialize_cdr(data, connection.msgtype)\n",
    "            msgs.append(msg)\n",
    "            timestamps.append(timestamp)\n",
    "    return timestamps, msgs\n"
   ]
  },
  {
   "cell_type": "code",
   "execution_count": 216,
   "metadata": {},
   "outputs": [],
   "source": [
    "def get_points(msg):\n",
    "    angles = np.linspace(msg.angle_min, msg.angle_max, len(msg.ranges), endpoint=True)\n",
    "    ranges = np.array(msg.ranges)\n",
    "    x = ranges * np.cos(angles)\n",
    "    y = ranges * np.sin(angles)\n",
    "    \n",
    "    points = np.vstack((x, y)).T\n",
    "\n",
    "    points = points[np.isfinite(points).min(axis=1).astype(bool), :]\n",
    "    \n",
    "    return points"
   ]
  },
  {
   "cell_type": "code",
   "execution_count": 217,
   "metadata": {},
   "outputs": [],
   "source": [
    "# Calculate the center of each cluster\n",
    "def calculate_cluster_centers(points, labels):\n",
    "    unique_labels = set(labels)\n",
    "    centers = np.zeros((len(unique_labels), 2))\n",
    "    for label in unique_labels:\n",
    "        if label != -1:  # Ignore noise\n",
    "            class_member_mask = (labels == label)\n",
    "            cluster_points = points[class_member_mask]\n",
    "            center = cluster_points.mean(axis=0)\n",
    "            centers[label] = center\n",
    "    return centers\n",
    "\n",
    "def find_clusters(points):\n",
    "    dbscan = DBSCAN(eps=0.5, min_samples=5)\n",
    "    labels = dbscan.fit_predict(points)\n",
    "    \n",
    "    return calculate_cluster_centers(points, labels)"
   ]
  },
  {
   "cell_type": "code",
   "execution_count": 219,
   "metadata": {},
   "outputs": [],
   "source": [
    "def track_objects(prev_positions, new_positions, max_distance):\n",
    "    \"\"\"\n",
    "    Track objects based on their positions in consecutive measurements.\n",
    "    \n",
    "    Parameters:\n",
    "    prev_positions (numpy.ndarray): Array of shape (N0, 2) with the positions of the objects at the previous time step.\n",
    "    new_positions (numpy.ndarray): Array of shape (N1, 2) with the positions of the objects at the current time step.\n",
    "    max_distance (float): Maximum distance an object is allowed to travel between measurements.\n",
    "    \n",
    "    Returns:\n",
    "    numpy.ndarray: Array of shape (N0, 2) with the updated positions of the objects.\n",
    "    \"\"\"\n",
    "    # Create a KDTree for fast nearest-neighbor lookup\n",
    "    tree = cKDTree(new_positions)\n",
    "    \n",
    "    # Query the KDTree for the nearest neighbors to each point in prev_positions\n",
    "    distances, indices = tree.query(prev_positions, distance_upper_bound=max_distance)\n",
    "    \n",
    "    # Initialize an array to store the updated positions\n",
    "    updated_positions = np.copy(prev_positions)\n",
    "    \n",
    "    # Update positions where a valid neighbor was found within max_distance\n",
    "    valid_mask = distances <= max_distance\n",
    "    updated_positions[valid_mask] = new_positions[indices[valid_mask]]\n",
    "    \n",
    "    return updated_positions"
   ]
  },
  {
   "cell_type": "code",
   "execution_count": 228,
   "metadata": {},
   "outputs": [],
   "source": [
    "def find_all_clusters(msgs):\n",
    "    for msg in msgs:\n",
    "        points = get_points(msg)\n",
    "        clusters = find_clusters(points)\n",
    "        yield clusters"
   ]
  },
  {
   "cell_type": "code",
   "execution_count": 230,
   "metadata": {},
   "outputs": [],
   "source": [
    "def get_history(msgs):\n",
    "    all_clusters = list(find_all_clusters(msgs))\n",
    "    centers = all_clusters[0]\n",
    "\n",
    "    history = [centers]\n",
    "\n",
    "    for clusters in all_clusters[1:]:\n",
    "        centers = track_objects(centers, clusters, 1)\n",
    "        history.append(centers)\n",
    "\n",
    "    history = np.array(history)\n",
    "    \n",
    "    return history"
   ]
  },
  {
   "cell_type": "code",
   "execution_count": 222,
   "metadata": {},
   "outputs": [],
   "source": [
    "def bbox_area(a):\n",
    "    minx, miny = a.min(axis=0)\n",
    "    maxx, maxy = a.max(axis=0)\n",
    "    dx = maxx - minx\n",
    "    dy = maxy - miny\n",
    "    return dx * dy"
   ]
  },
  {
   "cell_type": "code",
   "execution_count": 231,
   "metadata": {},
   "outputs": [],
   "source": [
    "def get_largest_path(history):\n",
    "    max_area = -100\n",
    "    max_idx = -1\n",
    "    for h in range(history.shape[1]):\n",
    "        a = bbox_area(history[:, h, :])\n",
    "        if a > max_area:\n",
    "            max_area = a\n",
    "            max_idx = h\n",
    "            \n",
    "    return history[: , max_idx]"
   ]
  },
  {
   "cell_type": "code",
   "execution_count": 244,
   "metadata": {},
   "outputs": [],
   "source": [
    "def plot_rover_path(path, ax):\n",
    "    path = path - path[0]\n",
    "\n",
    "    plt.plot(path[:, 0], path[: ,1])\n",
    "    plt.gca().set_aspect('equal')\n",
    "    plt.grid()\n",
    "    plt.show()"
   ]
  },
  {
   "cell_type": "code",
   "execution_count": null,
   "metadata": {},
   "outputs": [],
   "source": [
    "def store_path(ts, path, name):\n",
    "    "
   ]
  },
  {
   "cell_type": "code",
   "execution_count": 251,
   "metadata": {},
   "outputs": [
    {
     "data": {
      "image/png": "[encoded data removed]",
      "text/plain": [
       "<Figure size 640x480 with 1 Axes>"
      ]
     },
     "metadata": {},
     "output_type": "display_data"
    }
   ],
   "source": [
    "fpath = '../data/2024-07-15/lidar_test_006/'\n",
    "\n",
    "ts, msgs = read_bag(fpath)\n",
    "history = get_history(msgs)\n",
    "path = get_largest_path(history)\n",
    "\n",
    "plot_rover_path(path)"
   ]
  },
  {
   "cell_type": "code",
   "execution_count": 242,
   "metadata": {},
   "outputs": [
    {
     "data": {
      "text/plain": [
       "array([[-1.2372891 , -1.70409864],\n",
       "       [-1.2324974 , -1.69620706],\n",
       "       [-1.24069671, -1.6964003 ],\n",
       "       ...,\n",
       "       [-1.63126891,  0.57599381],\n",
       "       [-1.5964489 ,  0.60467926],\n",
       "       [-1.57000741,  0.63590736]])"
      ]
     },
     "execution_count": 242,
     "metadata": {},
     "output_type": "execute_result"
    }
   ],
   "source": [
    "path"
   ]
  },
  {
   "cell_type": "code",
   "execution_count": 190,
   "metadata": {},
   "outputs": [
    {
     "data": {
      "text/plain": [
       "(634, 2)"
      ]
     },
     "execution_count": 190,
     "metadata": {},
     "output_type": "execute_result"
    }
   ],
   "source": [
    "path.shape"
   ]
  },
  {
   "cell_type": "code",
   "execution_count": 177,
   "metadata": {},
   "outputs": [],
   "source": [
    "s = np.vstack((np.array(timestamps), path.T)).T"
   ]
  },
  {
   "cell_type": "code",
   "execution_count": null,
   "metadata": {},
   "outputs": [],
   "source": []
  },
  {
   "cell_type": "code",
   "execution_count": 226,
   "metadata": {},
   "outputs": [
    {
     "data": {
      "text/plain": [
       "array([[ 1.72104508e+18,  1.72104508e+18,  1.72104508e+18, ...,\n",
       "         1.72104513e+18,  1.72104514e+18,  1.72104514e+18],\n",
       "       [-1.08093861e+00, -1.06661238e+00, -9.90611720e-01, ...,\n",
       "        -5.37054807e-01, -5.39647924e-01, -5.37927428e-01],\n",
       "       [-4.41477278e+00, -4.38777534e+00, -4.34030948e+00, ...,\n",
       "        -1.14212403e+00, -1.15422763e+00, -1.16551774e+00]])"
      ]
     },
     "execution_count": 226,
     "metadata": {},
     "output_type": "execute_result"
    }
   ],
   "source": []
  },
  {
   "cell_type": "code",
   "execution_count": null,
   "metadata": {},
   "outputs": [],
   "source": []
  }
 ],
 "metadata": {
  "kernelspec": {
   "display_name": "Python 3",
   "language": "python",
   "name": "python3"
  },
  "language_info": {
   "codemirror_mode": {
    "name": "ipython",
    "version": 3
   },
   "file_extension": ".py",
   "mimetype": "text/x-python",
   "name": "python",
   "nbconvert_exporter": "python",
   "pygments_lexer": "ipython3",
   "version": "3.10.12"
  }
 },
 "nbformat": 4,
 "nbformat_minor": 2
}
