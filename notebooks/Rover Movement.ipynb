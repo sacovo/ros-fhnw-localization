{
 "cells": [
  {
   "cell_type": "code",
   "execution_count": 98,
   "id": "6505c94c-d31b-47d1-9feb-6f9e7532c2f5",
   "metadata": {},
   "outputs": [],
   "source": [
    "from sympy import symbols\n",
    "\n",
    "from sympy import *\n"
   ]
  },
  {
   "cell_type": "code",
   "execution_count": 99,
   "id": "ea69588a-7b6d-45c8-8777-3009e318f972",
   "metadata": {},
   "outputs": [],
   "source": [
    "init_printing(use_unicode=True)"
   ]
  },
  {
   "cell_type": "code",
   "execution_count": 100,
   "id": "4e96ca44-870a-4c40-97d1-a20d15d64b0f",
   "metadata": {},
   "outputs": [],
   "source": [
    "v_xr, v_yr, w_r = symbols('v_{xR} v_{yR} \\\\omega_R')"
   ]
  },
  {
   "cell_type": "code",
   "execution_count": 101,
   "id": "65f7cf4f-974b-4001-9e40-7ee76e1b767b",
   "metadata": {},
   "outputs": [],
   "source": [
    "w = Matrix([0, 0, w_r])"
   ]
  },
  {
   "cell_type": "code",
   "execution_count": 102,
   "id": "0502b7e3-1c17-42f0-ba3f-17ac2bb8d1f6",
   "metadata": {},
   "outputs": [],
   "source": [
    "v_r = Matrix([v_xr, v_yr, 0])"
   ]
  },
  {
   "cell_type": "code",
   "execution_count": 103,
   "id": "4202d21f-fe50-4776-9d5e-79feb7a05c71",
   "metadata": {},
   "outputs": [],
   "source": [
    "h, b = symbols('h b')"
   ]
  },
  {
   "cell_type": "code",
   "execution_count": 135,
   "id": "3b9521c6-5a67-40a9-ab6e-f342210b63d4",
   "metadata": {},
   "outputs": [],
   "source": [
    "p1 = Matrix(list(symbols('x_1 y_1')) + [0])\n",
    "p2 = Matrix(list(symbols('x_2 y_2')) + [0])\n",
    "p3 = Matrix(list(symbols('x_3 y_3')) + [0])\n",
    "p4 = Matrix(list(symbols('x_4 y_4')) + [0])"
   ]
  },
  {
   "cell_type": "code",
   "execution_count": 136,
   "id": "c5728981-c825-4e4e-b384-e5b3ad34e159",
   "metadata": {},
   "outputs": [],
   "source": [
    "ps = [p1, p2, p3, p4]\n",
    "vs = []"
   ]
  },
  {
   "cell_type": "code",
   "execution_count": null,
   "id": "8a27d2ef-8921-414c-bdeb-3803d10add78",
   "metadata": {},
   "outputs": [],
   "source": []
  },
  {
   "cell_type": "code",
   "execution_count": 137,
   "id": "46caaef3-5d87-46b0-bda6-e08011c83b92",
   "metadata": {},
   "outputs": [],
   "source": [
    "for i in range(4):\n",
    "    vx, vy = symbols(f'v_{{x{i+1}}} v_{{y{i+1}}}')\n",
    "    vs.append(Matrix([vx, vy, 0]))"
   ]
  },
  {
   "cell_type": "code",
   "execution_count": 138,
   "id": "78e7d571-a9e1-4b07-a572-a4e3b322b0f6",
   "metadata": {},
   "outputs": [],
   "source": [
    "eqs = []"
   ]
  },
  {
   "cell_type": "code",
   "execution_count": 139,
   "id": "82d892d2-9547-42b1-8bc0-b105bcd54951",
   "metadata": {},
   "outputs": [],
   "source": [
    "for v, p in zip(vs, ps):\n",
    "    eqs.append(Eq(w.cross(p) + v_r, v))"
   ]
  },
  {
   "cell_type": "code",
   "execution_count": 145,
   "id": "53ce9bd2-2627-4377-a6a5-47b673be2201",
   "metadata": {},
   "outputs": [],
   "source": [
    "x_1, y_1 = symbols('x_1 y_1')"
   ]
  },
  {
   "cell_type": "code",
   "execution_count": 141,
   "id": "7ad9d939-f6ee-4a52-99f6-09bc952836fd",
   "metadata": {},
   "outputs": [
    {
     "data": {
      "image/png": "[encoded data removed]",
      "text/latex": [
       "$\\displaystyle \\left[ \\right]$"
      ],
      "text/plain": [
       "[]"
      ]
     },
     "execution_count": 141,
     "metadata": {},
     "output_type": "execute_result"
    }
   ],
   "source": [
    "solve(eqs[0], w_r)"
   ]
  },
  {
   "cell_type": "code",
   "execution_count": 151,
   "id": "d4d0ac57-2336-4582-ad59-5e301de56310",
   "metadata": {},
   "outputs": [],
   "source": [
    "v_yp1 = symbols('v_{yp1}')"
   ]
  },
  {
   "cell_type": "code",
   "execution_count": 155,
   "id": "cde2d153-91ca-4c12-af78-f590dd32a75f",
   "metadata": {},
   "outputs": [
    {
     "data": {
      "image/png": "[encoded data removed]",
      "text/latex": [
       "$\\displaystyle \\left\\{ \\omega_{R} : - \\frac{v_{yR}}{x_{1}} + \\frac{v_{yp1}}{x_{1}}, \\  v_{xR} : - \\frac{v_{yR} y_{1}}{x_{1}} + \\frac{v_{xp1} x_{1} + v_{yp1} y_{1}}{x_{1}}\\right\\}$"
      ],
      "text/plain": [
       "⎧            v_{yR}   v_{yp1}            v_{yR}⋅y₁   v_{xp1}⋅x₁ + v_{yp1}⋅y₁⎫\n",
       "⎨\\omega_R: - ────── + ───────, v_{xR}: - ───────── + ───────────────────────⎬\n",
       "⎩              x₁        x₁                  x₁                 x₁          ⎭"
      ]
     },
     "execution_count": 155,
     "metadata": {},
     "output_type": "execute_result"
    }
   ],
   "source": [
    "solve([\n",
    "    Eq(v_xp1, -y_1 * w_r + v_xr),\n",
    "    Eq(v_yp1, x_1 * w_r + v_yr),\n",
    "], [w_r, v_xr, v_yr])"
   ]
  },
  {
   "cell_type": "code",
   "execution_count": 149,
   "id": "bbe8104c-fc20-4d2b-bfe0-984a82fd60a7",
   "metadata": {},
   "outputs": [
    {
     "data": {
      "image/png": "[encoded data removed]",
      "text/latex": [
       "$\\displaystyle v_{xp1}$"
      ],
      "text/plain": [
       "v_{xp1}"
      ]
     },
     "execution_count": 149,
     "metadata": {},
     "output_type": "execute_result"
    }
   ],
   "source": [
    "v_xp1"
   ]
  },
  {
   "cell_type": "code",
   "execution_count": 152,
   "id": "65afe6c7-c6fb-44e9-a28e-e4da6abd81c0",
   "metadata": {},
   "outputs": [
    {
     "data": {
      "image/png": "[encoded data removed]",
      "text/latex": [
       "$\\displaystyle v_{yp1}$"
      ],
      "text/plain": [
       "v_{yp1}"
      ]
     },
     "execution_count": 152,
     "metadata": {},
     "output_type": "execute_result"
    }
   ],
   "source": [
    "v_yp1"
   ]
  },
  {
   "cell_type": "code",
   "execution_count": null,
   "id": "83c28785-2f13-43ad-b3a8-d08494875e1b",
   "metadata": {},
   "outputs": [],
   "source": []
  }
 ],
 "metadata": {
  "kernelspec": {
   "display_name": "Python 3 (ipykernel)",
   "language": "python",
   "name": "python3"
  },
  "language_info": {
   "codemirror_mode": {
    "name": "ipython",
    "version": 3
   },
   "file_extension": ".py",
   "mimetype": "text/x-python",
   "name": "python",
   "nbconvert_exporter": "python",
   "pygments_lexer": "ipython3",
   "version": "3.11.8"
  }
 },
 "nbformat": 4,
 "nbformat_minor": 5
}
