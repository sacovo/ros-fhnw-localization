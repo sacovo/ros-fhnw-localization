{
 "cells": [
  {
   "cell_type": "code",
   "execution_count": 2,
   "id": "1da1c53a-662f-4aa4-84d4-8f6d0f2915bb",
   "metadata": {},
   "outputs": [],
   "source": [
    "import numpy as np"
   ]
  },
  {
   "cell_type": "code",
   "execution_count": 3,
   "id": "e3fe1590-ea3e-44b0-999b-f9acbb6d6cf6",
   "metadata": {},
   "outputs": [],
   "source": [
    "def point_velocity(v_r, w_r, p):\n",
    "    return np.cross(w_r, p) + v_r"
   ]
  },
  {
   "cell_type": "code",
   "execution_count": 25,
   "id": "0c9808db-dca7-4330-8ac1-22b9adec8552",
   "metadata": {},
   "outputs": [],
   "source": [
    "v_r = np.array([1, 1, 0])\n",
    "w_r = np.array([0, 0, 0.1])"
   ]
  },
  {
   "cell_type": "code",
   "execution_count": 28,
   "id": "b99d44d6-61e9-42e6-95b0-63c0b99e4c64",
   "metadata": {},
   "outputs": [],
   "source": [
    "h = 0.8\n",
    "b = 1.0"
   ]
  },
  {
   "cell_type": "code",
   "execution_count": 29,
   "id": "e655766a-41e8-4183-8393-577815edfb00",
   "metadata": {},
   "outputs": [],
   "source": [
    "points = [\n",
    "    [-h/2, b/2, 0],\n",
    "    [h/2, b/2, 0],\n",
    "    [h/2, -b/2, 0],\n",
    "    [-h/2, -b/2, 0],\n",
    "]"
   ]
  },
  {
   "cell_type": "code",
   "execution_count": 30,
   "id": "92bfabb6-fb84-4522-af02-72d483aaf7fe",
   "metadata": {},
   "outputs": [],
   "source": [
    "def wheel_velocities(v_r, w_r):\n",
    "    vels = []\n",
    "    for point in points:\n",
    "        vels.append(point_velocity(v_r, w_r, point))\n",
    "    return vels"
   ]
  },
  {
   "cell_type": "code",
   "execution_count": 33,
   "id": "096e7913-8aac-49ba-b797-4c10bb69a78f",
   "metadata": {},
   "outputs": [
    {
     "data": {
      "text/plain": [
       "array([1., 1., 0.])"
      ]
     },
     "execution_count": 33,
     "metadata": {},
     "output_type": "execute_result"
    }
   ],
   "source": [
    "np.mean(wheel_velocities(v_r, w_r), axis=0)"
   ]
  },
  {
   "cell_type": "code",
   "execution_count": 34,
   "id": "fe7a8435-2f2b-45d9-8c82-2dad5f10239e",
   "metadata": {},
   "outputs": [],
   "source": [
    "def rover_velocity(wheels):\n",
    "    return np.mean(wheels, axis=0)"
   ]
  },
  {
   "cell_type": "code",
   "execution_count": 35,
   "id": "cac32e71-1342-40d3-b31d-9c1b9d4afe0a",
   "metadata": {},
   "outputs": [],
   "source": [
    "def omega(v_w, p_w, v_r):\n",
    "    vx_p = v_w[0]\n",
    "    vy_p = v_w[1]\n",
    "\n",
    "    vx_r = v_r[0]\n",
    "    vy_r = v_r[1]\n",
    "    \n",
    "    x = p_w[0]\n",
    "    y = p_w[1]\n",
    "\n",
    "    w_x = (vx_p - vx_r) / (-y)\n",
    "    w_y = (vy_p - vy_r) / x\n",
    "    return (w_x + w_y) * 0.5"
   ]
  },
  {
   "cell_type": "code",
   "execution_count": 42,
   "id": "919f4829-a709-43e8-82e8-de368b4053f3",
   "metadata": {},
   "outputs": [],
   "source": [
    "def rover_movement(wheels):\n",
    "    v = rover_velocity(wheels)\n",
    "\n",
    "    omegas = []\n",
    "    for v_w, p_w in zip(wheels, points):\n",
    "        omegas.append(omega(v_w, p_w, v))\n",
    "    w = np.mean(omegas)\n",
    "\n",
    "    return v, np.array([0, 0, w])"
   ]
  },
  {
   "cell_type": "code",
   "execution_count": 43,
   "id": "87fb7fc4-8657-4d43-b0a4-68f70529e146",
   "metadata": {},
   "outputs": [],
   "source": [
    "wheels = wheel_velocities(v_r, w_r)"
   ]
  },
  {
   "cell_type": "code",
   "execution_count": 44,
   "id": "5d28af1b-cbfd-4108-a1b1-0210c648eed2",
   "metadata": {},
   "outputs": [
    {
     "data": {
      "text/plain": [
       "0.10000000000000009"
      ]
     },
     "execution_count": 44,
     "metadata": {},
     "output_type": "execute_result"
    }
   ],
   "source": [
    "omega(wheels[0], points[0], rover_velocity(wheels))"
   ]
  },
  {
   "cell_type": "code",
   "execution_count": 57,
   "id": "f3c04589-2fa5-4654-bf24-9ee64787d31c",
   "metadata": {},
   "outputs": [],
   "source": [
    "def calculation(v_r, w_r):\n",
    "    wheels = wheel_velocities(v_r, w_r)\n",
    "\n",
    "    v_r_pred, w_r_pred = rover_movement(wheels)\n",
    "\n",
    "    error_v = np.mean(np.absolute(v_r - v_r_pred))\n",
    "    error_w = np.mean(np.absolute(w_r - w_r_pred))\n",
    "\n",
    "    return error_v, error_w"
   ]
  },
  {
   "cell_type": "code",
   "execution_count": 59,
   "id": "50aa2289-223a-4851-bc6f-b4d009d42fa3",
   "metadata": {},
   "outputs": [],
   "source": [
    "from numpy.random import Generator, PCG64"
   ]
  },
  {
   "cell_type": "code",
   "execution_count": 66,
   "id": "55851497-7965-491b-b673-d809293df19e",
   "metadata": {},
   "outputs": [],
   "source": [
    "rng = Generator(PCG64())\n",
    "\n",
    "def random_vw():\n",
    "    v_x = (rng.random() - 0.5) * 10\n",
    "    v_y = (rng.random() - 0.5) * 10\n",
    "\n",
    "    w = (rng.random() - 0.5) * 10\n",
    "\n",
    "    return [v_x, v_y, 0], [0, 0, w]"
   ]
  },
  {
   "cell_type": "code",
   "execution_count": 77,
   "id": "99f024ef-3205-437f-8c41-c084bf67944e",
   "metadata": {},
   "outputs": [
    {
     "data": {
      "text/plain": [
       "array([3.13406708e-17, 5.43010081e-17])"
      ]
     },
     "execution_count": 77,
     "metadata": {},
     "output_type": "execute_result"
    }
   ],
   "source": [
    "np.mean([calculation(*random_vw()) for _ in range(10000)], axis=0)"
   ]
  },
  {
   "cell_type": "code",
   "execution_count": null,
   "id": "e86e8d63-12ca-472a-b4af-fe91bad0378d",
   "metadata": {},
   "outputs": [],
   "source": []
  }
 ],
 "metadata": {
  "kernelspec": {
   "display_name": "Python 3 (ipykernel)",
   "language": "python",
   "name": "python3"
  },
  "language_info": {
   "codemirror_mode": {
    "name": "ipython",
    "version": 3
   },
   "file_extension": ".py",
   "mimetype": "text/x-python",
   "name": "python",
   "nbconvert_exporter": "python",
   "pygments_lexer": "ipython3",
   "version": "3.11.8"
  }
 },
 "nbformat": 4,
 "nbformat_minor": 5
}
